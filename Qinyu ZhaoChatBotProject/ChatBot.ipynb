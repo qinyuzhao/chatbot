{
 "cells": [
  {
   "cell_type": "markdown",
   "metadata": {},
   "source": [
    "This project implements an advanced chat bot. The bot can:\n",
    "* __Talk with you automatically.__\n",
    "* __Remember what you talked to him before.__ For example, when two bots A and B chat with each other, A says hello to B and B replies hello. The mechanism prevents them from saying hello to each other all the time.\n",
    "* __Answer python questions.__ If you ask the bot a python question, he can know that by the keyword and search the answer automatically from Stack Overflow. The function is implemented by a crawler.\n",
    "* __Chat with another bot.__ Two bots can chat with each other automatically through creating two bot instances."
   ]
  },
  {
   "cell_type": "markdown",
   "metadata": {},
   "source": [
    "#### Your need to download nltk data first!"
   ]
  },
  {
   "cell_type": "code",
   "execution_count": null,
   "metadata": {},
   "outputs": [],
   "source": [
    "import nltk\n",
    "nltk.download()"
   ]
  },
  {
   "cell_type": "code",
   "execution_count": null,
   "metadata": {},
   "outputs": [],
   "source": [
    "from chatbot import bot"
   ]
  },
  {
   "cell_type": "code",
   "execution_count": null,
   "metadata": {},
   "outputs": [],
   "source": [
    "# create a bot instance\n",
    "chatbot = bot.ChatBot(\"bot\")"
   ]
  },
  {
   "cell_type": "markdown",
   "metadata": {},
   "source": [
    "#### Answer python question\n",
    "* The chat bot can answer python question\n",
    "* He search the answer from Stack Overflow, so guarantee the network connection.\n",
    "* You can ask him any python question and he can know that by the keyword 'python'."
   ]
  },
  {
   "cell_type": "code",
   "execution_count": null,
   "metadata": {},
   "outputs": [],
   "source": [
    "# answer python questions\n",
    "QUESTION = \"How can I save a file in python?\"\n",
    "DONOT_OUTPUT = chatbot.say(chatbot.answer_python_question(QUESTION))"
   ]
  },
  {
   "cell_type": "markdown",
   "metadata": {},
   "source": [
    "#### Chat with you"
   ]
  },
  {
   "cell_type": "code",
   "execution_count": null,
   "metadata": {},
   "outputs": [],
   "source": [
    "# Start a boot and enter 'quit' to stop it.\n",
    "chatbot.chat()"
   ]
  },
  {
   "cell_type": "markdown",
   "metadata": {},
   "source": [
    "#### Two bots chat with each other"
   ]
  },
  {
   "cell_type": "code",
   "execution_count": null,
   "metadata": {},
   "outputs": [],
   "source": [
    "# Let two bots chat 5 rounds.\n",
    "from chatbot.bot import two_bots\n",
    "two_bots(5)"
   ]
  },
  {
   "cell_type": "code",
   "execution_count": null,
   "metadata": {},
   "outputs": [],
   "source": []
  },
  {
   "cell_type": "code",
   "execution_count": null,
   "metadata": {},
   "outputs": [],
   "source": []
  },
  {
   "cell_type": "code",
   "execution_count": null,
   "metadata": {},
   "outputs": [],
   "source": [
    "def test_nlp():\n",
    "    \n",
    "    assert bot.preprocessing(\"This is a book.\") == ['book']\n",
    "    \n",
    "    assert bot.remove_stop_word(['python', 'is', 'interesting']) == ['python', 'interesting']\n",
    "    \n",
    "    assert bot.tokenize(\"This is a book.\") == ['This', 'is', 'a', 'book']\n",
    "    \n",
    "test_nlp()"
   ]
  },
  {
   "cell_type": "code",
   "execution_count": null,
   "metadata": {},
   "outputs": [],
   "source": [
    "def test_bot():\n",
    "    \n",
    "    assert chatbot.answer(\"How can I save a file in python?\") != None\n",
    "    \n",
    "    assert chatbot.is_quit(\"quit\") == True\n",
    "    \n",
    "    assert chatbot.is_question(\"What's this?\") == True\n",
    "    \n",
    "    assert chatbot.is_question(\"Yes.\") == False\n",
    "    \n",
    "    assert chatbot.is_python_question(\"How can I save a file in python?\") == True\n",
    "    \n",
    "test_bot()"
   ]
  },
  {
   "cell_type": "code",
   "execution_count": null,
   "metadata": {},
   "outputs": [],
   "source": []
  }
 ],
 "metadata": {
  "kernelspec": {
   "display_name": "Python 3",
   "language": "python",
   "name": "python3"
  },
  "language_info": {
   "codemirror_mode": {
    "name": "ipython",
    "version": 3
   },
   "file_extension": ".py",
   "mimetype": "text/x-python",
   "name": "python",
   "nbconvert_exporter": "python",
   "pygments_lexer": "ipython3",
   "version": "3.6.8"
  }
 },
 "nbformat": 4,
 "nbformat_minor": 2
}
